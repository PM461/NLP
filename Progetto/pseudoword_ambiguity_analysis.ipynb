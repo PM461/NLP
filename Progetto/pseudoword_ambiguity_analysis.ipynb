{
  "cells": [
    {
      "cell_type": "markdown",
      "id": "aac9c756",
      "metadata": {
        "id": "aac9c756"
      },
      "source": [
        "# Pseudoword Ambiguity Reduction Analysis\n",
        "This notebook processes multilingual pseudowords using BabelNet, computes ambiguity reduction scores, and visualizes the results."
      ]
    },
    {
      "cell_type": "code",
      "source": [
        "!pip install -r requirements.txt"
      ],
      "metadata": {
        "colab": {
          "base_uri": "https://localhost:8080/"
        },
        "id": "Jmsx30nbkUGS",
        "outputId": "a3afcb44-c93c-4a97-ffb0-36fd6b866f1d"
      },
      "id": "Jmsx30nbkUGS",
      "execution_count": 1,
      "outputs": [
        {
          "output_type": "stream",
          "name": "stdout",
          "text": [
            "\u001b[31mERROR: Could not open requirements file: [Errno 2] No such file or directory: 'requirements.txt'\u001b[0m\u001b[31m\n",
            "\u001b[0m"
          ]
        }
      ]
    },
    {
      "cell_type": "markdown",
      "source": [
        "Importazione delle librerie necessarie all'esecuzione"
      ],
      "metadata": {
        "id": "A_8qcGpmnYFP"
      },
      "id": "A_8qcGpmnYFP"
    },
    {
      "cell_type": "code",
      "source": [
        "import os\n",
        "import csv\n",
        "import json\n",
        "import logging\n",
        "import requests\n",
        "import concurrent.futures\n",
        "import matplotlib.pyplot as plt\n",
        "import numpy as np\n",
        "\n",
        "from typing import List, Dict, Optional, Tuple, Any, Set\n",
        "from functools import partial\n",
        "from google.colab import userdata"
      ],
      "metadata": {
        "id": "UG_7ekn0nVWG"
      },
      "id": "UG_7ekn0nVWG",
      "execution_count": 3,
      "outputs": []
    },
    {
      "cell_type": "markdown",
      "source": [
        "**Questa sezione è utile per la gestione delle API di babelNet.**\n",
        "\n",
        "Istruzioni d'uso: se eseguite il codice su code colab andare su 'secret' (l'icona della chiave a sinistra) e mettere le seguenti variabili d'ambiente:\n",
        "\n",
        "BABELNET_API_KEY= La_tua_chiave_personale_babelnet\n",
        "\n",
        "WORD_PAIRS=word_pairs.csv (il file da dove prendere le parole)\n",
        "\n",
        "LANGUAGES=EN,IT,ES,FR (le lingue che si vogliono mappare)"
      ],
      "metadata": {
        "id": "I5VQsk_mnf6c"
      },
      "id": "I5VQsk_mnf6c"
    },
    {
      "cell_type": "code",
      "execution_count": 5,
      "id": "9fef3ad8",
      "metadata": {
        "id": "9fef3ad8"
      },
      "outputs": [],
      "source": [
        "\n",
        "#NECESSARIO SE SI VUOLE ESEGUIRE IN LOCALE (Si dovrebbe includere la libreria dotenv e creare un file dotenv con le pariabili corrette)\n",
        "#logging.basicConfig(level=logging.INFO, format='%(asctime)s - %(levelname)s - %(message)s')\n",
        "#dotenv_path = find_dotenv()\n",
        "#if dotenv_path:\n",
        "#    load_dotenv(dotenv_path)\n",
        "#    logging.info(f\"Loaded .env from {dotenv_path}\")\n",
        "#else:\n",
        "#    logging.warning(\"No .env file found.\")\n",
        "#\n",
        "API_KEY = userdata.get(\"BABELNET_API_KEY\")\n",
        "INPUT_FILE = userdata.get(\"WORD_PAIRS\")\n",
        "LANGS = [lang.strip().upper() for lang in userdata.get(\"LANGUAGES\").split(',') if lang.strip()]\n"
      ]
    },
    {
      "cell_type": "markdown",
      "source": [
        "**load_word_tuples**:\n",
        "Legge un file CSV riga per riga.\n",
        "\n",
        "Pulisce ogni parola rimuovendo gli spazi vuoti.\n",
        "\n",
        "Scarta righe con meno di 2 parole significative."
      ],
      "metadata": {
        "id": "mR4b6G0bowMn"
      },
      "id": "mR4b6G0bowMn"
    },
    {
      "cell_type": "code",
      "source": [
        "def load_word_tuples(filepath: str) -> List[Tuple[str, ...]]:\n",
        "    with open(filepath, newline='', encoding='utf-8') as f:\n",
        "        return [tuple(word.strip() for word in row if word.strip())\n",
        "                for row in csv.reader(f) if len(row) >= 2]"
      ],
      "metadata": {
        "id": "OvL7W806o9U0"
      },
      "id": "OvL7W806o9U0",
      "execution_count": 6,
      "outputs": []
    },
    {
      "cell_type": "markdown",
      "source": [
        "**get_sense:** interroga BabelNet per ottenere i possibili significati (sensi) di una parola in diverse lingue."
      ],
      "metadata": {
        "id": "Tdr1NzQjpIAa"
      },
      "id": "Tdr1NzQjpIAa"
    },
    {
      "cell_type": "code",
      "source": [
        "def get_sense(\n",
        "    lemma: str,\n",
        "    targetLang: List[str],\n",
        "    key: str,\n",
        "    source: str = \"WIKI\"\n",
        ") -> Optional[List[Dict[str, Any]]]:\n",
        "    url = 'https://babelnet.io/v9/getSenses'\n",
        "    searchLang = targetLang[0]\n",
        "    params = {\n",
        "        'lemma': lemma,\n",
        "        'searchLang': searchLang,\n",
        "        'targetLang': targetLang,\n",
        "        'key': key,\n",
        "        'source': source\n",
        "    }\n",
        "\n",
        "    response = requests.get(url, params=params, timeout=10)\n",
        "    try:\n",
        "        response.raise_for_status()\n",
        "        return response.json()\n",
        "    except requests.exceptions.RequestException as e:\n",
        "        logging.error(f\"Error fetching synsets: {e}\")\n",
        "        return None"
      ],
      "metadata": {
        "id": "joXaenPkpZl2"
      },
      "id": "joXaenPkpZl2",
      "execution_count": 7,
      "outputs": []
    },
    {
      "cell_type": "markdown",
      "source": [
        "**find_synset_language_dict**:\n",
        "\n",
        "Prende in input una lista di dizionari synsets e costruisce un dizionario che mappa ogni lingua a un insieme di ID di synset"
      ],
      "metadata": {
        "id": "4oVp1TAMprIG"
      },
      "id": "4oVp1TAMprIG"
    },
    {
      "cell_type": "code",
      "source": [
        "\n",
        "def find_synset_language_dict(synsets: List[dict]) -> Dict[str, Set[str]]:\n",
        "    lang_synsets: Dict[str, Set[str]] = {}\n",
        "    for synset in synsets:\n",
        "        props = synset.get('properties', {})\n",
        "        synset_id = props.get('synsetID', {}).get('id')\n",
        "        lang = props.get('language', '').upper()\n",
        "        if synset_id and lang:\n",
        "            lang_synsets.setdefault(lang, set()).add(synset_id)\n",
        "    return lang_synsets\n"
      ],
      "metadata": {
        "id": "2GESVLbYqdtV"
      },
      "id": "2GESVLbYqdtV",
      "execution_count": 8,
      "outputs": []
    },
    {
      "cell_type": "markdown",
      "source": [
        "**extract_lemma_for_lang**\n",
        "\n",
        "Dato un elenco di synset, un synset_id e una lingua (lang), la funzione cerca e restituisce il lemma (la forma base della parola) corrispondente a quel synset e lingua."
      ],
      "metadata": {
        "id": "qECdlQiRqpDQ"
      },
      "id": "qECdlQiRqpDQ"
    },
    {
      "cell_type": "code",
      "source": [
        "def extract_lemma_for_lang(synsets: List[Dict[str, Any]], synset_id: str, lang: str) -> str:\n",
        "   for synset in synsets:\n",
        "        props = synset.get('properties', {})\n",
        "        sid = props.get('synsetID', {}).get('id')\n",
        "        language = props.get('language', '').upper()\n",
        "        if sid == synset_id and language == lang.upper():\n",
        "            return props.get('fullLemma') or props.get('simpleLemma') or \"N/A\"\n",
        "   return \"N/A\""
      ],
      "metadata": {
        "id": "87uFxGZqqvrE"
      },
      "id": "87uFxGZqqvrE",
      "execution_count": 9,
      "outputs": []
    },
    {
      "cell_type": "markdown",
      "source": [
        "**save_pseudoword_csv**\n",
        "\n",
        "Salva su file CSV strutturato le informazioni di una \"pseudoword\" formato da più parole in diverse lingue, synset comuni e relativi lemmi"
      ],
      "metadata": {
        "id": "7J1095k_q5ZU"
      },
      "id": "7J1095k_q5ZU"
    },
    {
      "cell_type": "code",
      "source": [
        "def save_pseudoword_csv(words: Tuple[str, ...], synsets: List[Dict[str, Any]], common_synsets: Set[str], langs: List[str]):\n",
        "    pseudoword = '-'.join(words)\n",
        "    os.makedirs('rsrc', exist_ok=True)\n",
        "    path = f\"rsrc/pseudowords_{pseudoword}.csv\"\n",
        "    with open(path, 'w', newline='', encoding='utf-8') as f:\n",
        "        writer = csv.writer(f)\n",
        "        writer.writerow([\"pseudoword\"] + [f\"{lang}_word\" for lang in langs] + [f\"{lang}_sense\" for lang in langs] + [\"common_synset_id\"])\n",
        "        for sid in common_synsets:\n",
        "            row = [pseudoword]\n",
        "            for i, lang in enumerate(langs):\n",
        "                row.append(words[i])\n",
        "            for lang in langs:\n",
        "                row.append(extract_lemma_for_lang(synsets, sid, lang))\n",
        "            row.append(sid)\n",
        "            writer.writerow(row)\n",
        "\n",
        "def save_pseudoword(\n",
        "    words: Tuple[str, ...],\n",
        "    pseudoword: str,\n",
        "    synsets: List[Dict[str, Any]],\n",
        "    common_synsets: Set[str],\n",
        "    langs: List[str]\n",
        ") -> None:\n",
        "    save_pseudoword_csv(words, synsets, common_synsets, langs)\n",
        "\n",
        "def save_pseudoword_multi(\n",
        "    pseudoword: str,\n",
        "    words: Tuple[str, ...],\n",
        "    synsets: List[Dict[str, Any]],\n",
        "    common_synsets: Set[str],\n",
        "    langs: List[str]\n",
        ") -> None:\n",
        "    save_pseudoword(words, pseudoword, synsets, common_synsets, langs)"
      ],
      "metadata": {
        "id": "TutgCornrEnP"
      },
      "id": "TutgCornrEnP",
      "execution_count": 10,
      "outputs": []
    },
    {
      "cell_type": "markdown",
      "source": [
        "**process_word_tuple**\n",
        "\n",
        "Calcola la riduzione di ambiguità per un gruppo di parole (words) in diverse lingue (langs), salva i dati relativi ai synset comuni e restituisce un dizionario con il punteggio."
      ],
      "metadata": {
        "id": "ToxOV93wremH"
      },
      "id": "ToxOV93wremH"
    },
    {
      "cell_type": "code",
      "execution_count": 11,
      "id": "03b5152c",
      "metadata": {
        "id": "03b5152c"
      },
      "outputs": [],
      "source": [
        "\n",
        "def process_word_tuple(words: Tuple[str, ...], langs: List[str], api_key: str) -> Optional[dict]:\n",
        "    synsets = get_sense(words[0], langs, api_key)\n",
        "    if not synsets:\n",
        "        return None\n",
        "    lang_synsets = find_synset_language_dict(synsets)\n",
        "    synset_sets = [lang_synsets.get(lang, set()) for lang in langs]\n",
        "    if not all(synset_sets):\n",
        "        return None\n",
        "    common = set.intersection(*synset_sets)\n",
        "\n",
        "    Sx = len(synset_sets[0])\n",
        "    Sy = len(synset_sets[1])\n",
        "    Sxy = len(common)\n",
        "    total = Sx + Sy\n",
        "    reduction = (total - 2 * Sxy) / total if total else 0.0\n",
        "\n",
        "    save_pseudoword_csv(words, synsets, common, langs)\n",
        "    return {\n",
        "        \"pseudoword\": '-'.join(words),\n",
        "        \"Sx\": Sx,\n",
        "        \"Sy\": Sy,\n",
        "        \"Sxy\": Sxy,\n",
        "        \"ambiguity_reduction\": round(reduction, 3)\n",
        "    }\n",
        "\n"
      ]
    },
    {
      "cell_type": "markdown",
      "source": [
        "**Gestione del flusso**\n",
        "\n",
        "gestisce il flusso completo: carica dati, calcola riduzione di ambiguità in parallelo, salva i dati e produce un grafico per visualizzare i risultati."
      ],
      "metadata": {
        "id": "Majq-aufr1ZB"
      },
      "id": "Majq-aufr1ZB"
    },
    {
      "cell_type": "code",
      "execution_count": 13,
      "id": "103d0ae6",
      "metadata": {
        "colab": {
          "base_uri": "https://localhost:8080/",
          "height": 752
        },
        "id": "103d0ae6",
        "outputId": "559124ee-90f8-4204-d6b7-0ad58fb82707"
      },
      "outputs": [
        {
          "output_type": "stream",
          "name": "stderr",
          "text": [
            "WARNING:root:No results to plot.\n"
          ]
        },
        {
          "output_type": "display_data",
          "data": {
            "text/plain": [
              "Empty DataFrame\n",
              "Columns: []\n",
              "Index: []"
            ],
            "text/html": [
              "\n",
              "  <div id=\"df-9ab0714e-fb02-475b-9e3b-3fa0c6bf09da\" class=\"colab-df-container\">\n",
              "    <div>\n",
              "<style scoped>\n",
              "    .dataframe tbody tr th:only-of-type {\n",
              "        vertical-align: middle;\n",
              "    }\n",
              "\n",
              "    .dataframe tbody tr th {\n",
              "        vertical-align: top;\n",
              "    }\n",
              "\n",
              "    .dataframe thead th {\n",
              "        text-align: right;\n",
              "    }\n",
              "</style>\n",
              "<table border=\"1\" class=\"dataframe\">\n",
              "  <thead>\n",
              "    <tr style=\"text-align: right;\">\n",
              "      <th></th>\n",
              "    </tr>\n",
              "  </thead>\n",
              "  <tbody>\n",
              "  </tbody>\n",
              "</table>\n",
              "</div>\n",
              "    <div class=\"colab-df-buttons\">\n",
              "\n",
              "  <div class=\"colab-df-container\">\n",
              "    <button class=\"colab-df-convert\" onclick=\"convertToInteractive('df-9ab0714e-fb02-475b-9e3b-3fa0c6bf09da')\"\n",
              "            title=\"Convert this dataframe to an interactive table.\"\n",
              "            style=\"display:none;\">\n",
              "\n",
              "  <svg xmlns=\"http://www.w3.org/2000/svg\" height=\"24px\" viewBox=\"0 -960 960 960\">\n",
              "    <path d=\"M120-120v-720h720v720H120Zm60-500h600v-160H180v160Zm220 220h160v-160H400v160Zm0 220h160v-160H400v160ZM180-400h160v-160H180v160Zm440 0h160v-160H620v160ZM180-180h160v-160H180v160Zm440 0h160v-160H620v160Z\"/>\n",
              "  </svg>\n",
              "    </button>\n",
              "\n",
              "  <style>\n",
              "    .colab-df-container {\n",
              "      display:flex;\n",
              "      gap: 12px;\n",
              "    }\n",
              "\n",
              "    .colab-df-convert {\n",
              "      background-color: #E8F0FE;\n",
              "      border: none;\n",
              "      border-radius: 50%;\n",
              "      cursor: pointer;\n",
              "      display: none;\n",
              "      fill: #1967D2;\n",
              "      height: 32px;\n",
              "      padding: 0 0 0 0;\n",
              "      width: 32px;\n",
              "    }\n",
              "\n",
              "    .colab-df-convert:hover {\n",
              "      background-color: #E2EBFA;\n",
              "      box-shadow: 0px 1px 2px rgba(60, 64, 67, 0.3), 0px 1px 3px 1px rgba(60, 64, 67, 0.15);\n",
              "      fill: #174EA6;\n",
              "    }\n",
              "\n",
              "    .colab-df-buttons div {\n",
              "      margin-bottom: 4px;\n",
              "    }\n",
              "\n",
              "    [theme=dark] .colab-df-convert {\n",
              "      background-color: #3B4455;\n",
              "      fill: #D2E3FC;\n",
              "    }\n",
              "\n",
              "    [theme=dark] .colab-df-convert:hover {\n",
              "      background-color: #434B5C;\n",
              "      box-shadow: 0px 1px 3px 1px rgba(0, 0, 0, 0.15);\n",
              "      filter: drop-shadow(0px 1px 2px rgba(0, 0, 0, 0.3));\n",
              "      fill: #FFFFFF;\n",
              "    }\n",
              "  </style>\n",
              "\n",
              "    <script>\n",
              "      const buttonEl =\n",
              "        document.querySelector('#df-9ab0714e-fb02-475b-9e3b-3fa0c6bf09da button.colab-df-convert');\n",
              "      buttonEl.style.display =\n",
              "        google.colab.kernel.accessAllowed ? 'block' : 'none';\n",
              "\n",
              "      async function convertToInteractive(key) {\n",
              "        const element = document.querySelector('#df-9ab0714e-fb02-475b-9e3b-3fa0c6bf09da');\n",
              "        const dataTable =\n",
              "          await google.colab.kernel.invokeFunction('convertToInteractive',\n",
              "                                                    [key], {});\n",
              "        if (!dataTable) return;\n",
              "\n",
              "        const docLinkHtml = 'Like what you see? Visit the ' +\n",
              "          '<a target=\"_blank\" href=https://colab.research.google.com/notebooks/data_table.ipynb>data table notebook</a>'\n",
              "          + ' to learn more about interactive tables.';\n",
              "        element.innerHTML = '';\n",
              "        dataTable['output_type'] = 'display_data';\n",
              "        await google.colab.output.renderOutput(dataTable, element);\n",
              "        const docLink = document.createElement('div');\n",
              "        docLink.innerHTML = docLinkHtml;\n",
              "        element.appendChild(docLink);\n",
              "      }\n",
              "    </script>\n",
              "  </div>\n",
              "\n",
              "\n",
              "    </div>\n",
              "  </div>\n"
            ],
            "application/vnd.google.colaboratory.intrinsic+json": {
              "type": "dataframe",
              "summary": "{\n  \"name\": \"plt\",\n  \"rows\": 0,\n  \"fields\": []\n}"
            }
          },
          "metadata": {}
        },
        {
          "output_type": "display_data",
          "data": {
            "text/plain": [
              "<Figure size 1200x800 with 1 Axes>"
            ],
            "image/png": "[encoded data removed]"
          },
          "metadata": {}
        }
      ],
      "source": [
        "word_tuples = load_word_tuples(INPUT_FILE)\n",
        "valid_tuples = [wt for wt in word_tuples if len(wt) == len(LANGS)]\n",
        "results = []\n",
        "\n",
        "with concurrent.futures.ThreadPoolExecutor(max_workers=4) as executor:\n",
        "    func = partial(process_word_tuple, langs=LANGS, api_key=API_KEY)\n",
        "    futures = {executor.submit(func, wt): wt for wt in valid_tuples}\n",
        "    for future in concurrent.futures.as_completed(futures):\n",
        "        res = future.result()\n",
        "        if res:\n",
        "            results.append(res)\n",
        "\n",
        "os.makedirs('rsrc', exist_ok=True)\n",
        "with open('rsrc/ambiguity_scores.json', 'w', encoding='utf-8') as f:\n",
        "    json.dump(results, f, indent=4, ensure_ascii=False)\n",
        "\n",
        "if results:\n",
        "    sorted_data = sorted(results, key=lambda x: x['ambiguity_reduction'])\n",
        "    pseudowords = [d['pseudoword'] for d in sorted_data]\n",
        "    scores = [d['ambiguity_reduction'] for d in sorted_data]\n",
        "\n",
        "    plt.figure(figsize=(12, 8))\n",
        "    y_pos = np.arange(len(pseudowords))\n",
        "    plt.barh(y_pos, scores, color=plt.cm.viridis(np.linspace(0, 1, len(pseudowords))))\n",
        "    plt.yticks(y_pos, pseudowords)\n",
        "    plt.xlabel('Ambiguity Reduction')\n",
        "    plt.title('Ambiguity Reduction per Pseudoword')\n",
        "    for i, score in enumerate(scores):\n",
        "        plt.text(score, i, f'{score:.2f}', va='center', ha='left')\n",
        "    plt.tight_layout()\n",
        "    plt.savefig('ambiguity_reduction_plot.png')\n",
        "    plt.show()\n",
        "else:\n",
        "    logging.warning(\"No results to plot.\")\n",
        "\n",
        "import pandas as pd\n",
        "\n",
        "df = pd.DataFrame(results)\n",
        "display(df.head())\n",
        "\n",
        "plt.figure(figsize=(12, 8))\n",
        "indices = np.arange(len(results))\n",
        "width = 0.3\n",
        "\n",
        "Sx_vals = [r[\"Sx\"] for r in results]\n",
        "Sy_vals = [r[\"Sy\"] for r in results]\n",
        "Sxy_vals = [r[\"Sxy\"] for r in results]\n",
        "\n",
        "plt.bar(indices - width, Sx_vals, width=width, label='Sx (L1)')\n",
        "plt.bar(indices, Sy_vals, width=width, label='Sy (L2)')\n",
        "plt.bar(indices + width, Sxy_vals, width=width, label='Sx∩Sy (Pseudoword)')\n",
        "\n",
        "plt.xticks(indices, [r[\"pseudoword\"] for r in results], rotation=90)\n",
        "plt.ylabel(\"Numero di sensi\")\n",
        "plt.title(\"Confronto Ambiguità: Prima vs Dopo\")\n",
        "plt.legend()\n",
        "plt.tight_layout()\n",
        "plt.savefig('ambiguity_comparison_plot.png')\n",
        "plt.show()\n",
        "\n"
      ]
    }
  ],
  "metadata": {
    "colab": {
      "provenance": []
    },
    "language_info": {
      "name": "python"
    },
    "kernelspec": {
      "name": "python3",
      "display_name": "Python 3"
    }
  },
  "nbformat": 4,
  "nbformat_minor": 5
}