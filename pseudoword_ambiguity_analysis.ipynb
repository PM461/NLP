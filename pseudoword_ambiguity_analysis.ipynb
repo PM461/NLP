{
  "cells": [
    {
      "cell_type": "markdown",
      "metadata": {
        "id": "view-in-github",
        "colab_type": "text"
      },
      "source": [
        "<a href=\"https://colab.research.google.com/github/PM461/NLP/blob/main/pseudoword_ambiguity_analysis.ipynb\" target=\"_parent\"><img src=\"https://colab.research.google.com/assets/colab-badge.svg\" alt=\"Open In Colab\"/></a>"
      ]
    },
    {
      "cell_type": "markdown",
      "id": "aac9c756",
      "metadata": {
        "id": "aac9c756"
      },
      "source": [
        "# Pseudoword Ambiguity Reduction Analysis\n",
        "This notebook processes multilingual pseudowords using BabelNet, computes ambiguity reduction scores, and visualizes the results."
      ]
    },
    {
      "cell_type": "code",
      "source": [
        "!pip install -r requirements.txt"
      ],
      "metadata": {
        "colab": {
          "base_uri": "https://localhost:8080/"
        },
        "id": "Jmsx30nbkUGS",
        "outputId": "089564cc-252f-4ca9-8c5a-f11a9e404427"
      },
      "id": "Jmsx30nbkUGS",
      "execution_count": 75,
      "outputs": [
        {
          "output_type": "stream",
          "name": "stdout",
          "text": [
            "Requirement already satisfied: aiofiles==24.1.0 in /usr/local/lib/python3.11/dist-packages (from -r requirements.txt (line 1)) (24.1.0)\n",
            "Collecting aiogram==3.20.0 (from -r requirements.txt (line 2))\n",
            "  Using cached aiogram-3.20.0-py3-none-any.whl.metadata (7.6 kB)\n",
            "Requirement already satisfied: aiohappyeyeballs==2.6.1 in /usr/local/lib/python3.11/dist-packages (from -r requirements.txt (line 3)) (2.6.1)\n",
            "Collecting aiohttp==3.12.6 (from -r requirements.txt (line 4))\n",
            "  Using cached aiohttp-3.12.6-cp311-cp311-manylinux_2_17_x86_64.manylinux2014_x86_64.whl.metadata (7.6 kB)\n",
            "Requirement already satisfied: aiosignal==1.3.2 in /usr/local/lib/python3.11/dist-packages (from -r requirements.txt (line 5)) (1.3.2)\n",
            "Requirement already satisfied: alabaster==1.0.0 in /usr/local/lib/python3.11/dist-packages (from -r requirements.txt (line 6)) (1.0.0)\n",
            "Requirement already satisfied: annotated-types==0.7.0 in /usr/local/lib/python3.11/dist-packages (from -r requirements.txt (line 7)) (0.7.0)\n",
            "Collecting argcomplete==3.5.3 (from -r requirements.txt (line 8))\n",
            "  Using cached argcomplete-3.5.3-py3-none-any.whl.metadata (16 kB)\n",
            "Collecting attrs==24.1.0 (from -r requirements.txt (line 9))\n",
            "  Using cached attrs-24.1.0-py3-none-any.whl.metadata (14 kB)\n",
            "Collecting autocommand==2.2.2 (from -r requirements.txt (line 10))\n",
            "  Using cached autocommand-2.2.2-py3-none-any.whl.metadata (15 kB)\n",
            "Requirement already satisfied: babel==2.17.0 in /usr/local/lib/python3.11/dist-packages (from -r requirements.txt (line 11)) (2.17.0)\n",
            "Collecting beautifulsoup4==4.13.3 (from -r requirements.txt (line 12))\n",
            "  Using cached beautifulsoup4-4.13.3-py3-none-any.whl.metadata (3.8 kB)\n",
            "Collecting blinker==1.8.2 (from -r requirements.txt (line 13))\n",
            "  Using cached blinker-1.8.2-py3-none-any.whl.metadata (1.6 kB)\n",
            "Collecting btrfsutil==6.14 (from -r requirements.txt (line 14))\n",
            "  Using cached btrfsutil-6.14.tar.gz (19 kB)\n",
            "  Preparing metadata (setup.py) ... \u001b[?25l\u001b[?25hdone\n",
            "Collecting certifi==2025.4.26 (from -r requirements.txt (line 15))\n",
            "  Using cached certifi-2025.4.26-py3-none-any.whl.metadata (2.5 kB)\n",
            "Requirement already satisfied: cffi==1.17.1 in /usr/local/lib/python3.11/dist-packages (from -r requirements.txt (line 16)) (1.17.1)\n",
            "Requirement already satisfied: charset-normalizer==3.4.2 in /usr/local/lib/python3.11/dist-packages (from -r requirements.txt (line 17)) (3.4.2)\n",
            "Collecting click==8.1.8 (from -r requirements.txt (line 18))\n",
            "  Using cached click-8.1.8-py3-none-any.whl.metadata (2.3 kB)\n",
            "Collecting clingo==5.7.1 (from -r requirements.txt (line 19))\n",
            "  Using cached clingo-5.7.1-cp311-cp311-manylinux_2_17_x86_64.manylinux2014_x86_64.whl.metadata (1.0 kB)\n",
            "Requirement already satisfied: contourpy==1.3.2 in /usr/local/lib/python3.11/dist-packages (from -r requirements.txt (line 20)) (1.3.2)\n",
            "Collecting cryptography==45.0.3 (from -r requirements.txt (line 21))\n",
            "  Using cached cryptography-45.0.3-cp311-abi3-manylinux_2_34_x86_64.whl.metadata (5.7 kB)\n",
            "\u001b[31mERROR: Could not find a version that satisfies the requirement cupshelpers==1.0 (from versions: none)\u001b[0m\u001b[31m\n",
            "\u001b[0m\u001b[31mERROR: No matching distribution found for cupshelpers==1.0\u001b[0m\u001b[31m\n",
            "\u001b[0m"
          ]
        }
      ]
    },
    {
      "cell_type": "markdown",
      "source": [
        "Importazione delle librerie necessarie all'esecuzione"
      ],
      "metadata": {
        "id": "A_8qcGpmnYFP"
      },
      "id": "A_8qcGpmnYFP"
    },
    {
      "cell_type": "code",
      "source": [
        "import os\n",
        "import csv\n",
        "import json\n",
        "import logging\n",
        "import requests\n",
        "import concurrent.futures\n",
        "import matplotlib.pyplot as plt\n",
        "import numpy as np\n",
        "from dotenv import load_dotenv, find_dotenv\n",
        "from typing import List, Dict, Optional, Tuple, Any, Set\n",
        "from functools import partial\n",
        "from google.colab import userdata"
      ],
      "metadata": {
        "id": "UG_7ekn0nVWG"
      },
      "id": "UG_7ekn0nVWG",
      "execution_count": 84,
      "outputs": []
    },
    {
      "cell_type": "markdown",
      "source": [
        "**Questa sezione è utile per la gestione delle API di babelNet.**\n",
        "\n",
        "Istruzioni d'uso: se eseguite il codice su code colab andare su 'secret' (l'icona della chiave a sinistra) e mettere le seguenti variabili d'ambiente:\n",
        "\n",
        "BABELNET_API_KEY= La_tua_chiave_personale_babelnet\n",
        "\n",
        "WORD_PAIRS=word_pairs.csv (il file da dove prendere le parole)\n",
        "\n",
        "LANGUAGES=EN,IT,ES,FR (le lingue che si vogliono mappare)"
      ],
      "metadata": {
        "id": "I5VQsk_mnf6c"
      },
      "id": "I5VQsk_mnf6c"
    },
    {
      "cell_type": "code",
      "execution_count": 85,
      "id": "9fef3ad8",
      "metadata": {
        "id": "9fef3ad8"
      },
      "outputs": [],
      "source": [
        "\n",
        "\n",
        "logging.basicConfig(level=logging.INFO, format='%(asctime)s - %(levelname)s - %(message)s')\n",
        "\n",
        "dotenv_path = find_dotenv()\n",
        "if dotenv_path:\n",
        "    load_dotenv(dotenv_path)\n",
        "    logging.info(f\"Loaded .env from {dotenv_path}\")\n",
        "else:\n",
        "    logging.warning(\"No .env file found.\")\n",
        "\n",
        "API_KEY = userdata.get(\"BABELNET_API_KEY\")\n",
        "INPUT_FILE = userdata.get(\"WORD_PAIRS\")\n",
        "LANGS = [lang.strip().upper() for lang in userdata.get(\"LANGUAGES\").split(',') if lang.strip()]\n"
      ]
    },
    {
      "cell_type": "markdown",
      "source": [
        "**load_word_tuples**:\n",
        "Legge un file CSV riga per riga.\n",
        "\n",
        "Pulisce ogni parola rimuovendo gli spazi vuoti.\n",
        "\n",
        "Scarta righe con meno di 2 parole significative."
      ],
      "metadata": {
        "id": "mR4b6G0bowMn"
      },
      "id": "mR4b6G0bowMn"
    },
    {
      "cell_type": "code",
      "source": [
        "def load_word_tuples(filepath: str) -> List[Tuple[str, ...]]:\n",
        "    with open(filepath, newline='', encoding='utf-8') as f:\n",
        "        return [tuple(word.strip() for word in row if word.strip())\n",
        "                for row in csv.reader(f) if len(row) >= 2]"
      ],
      "metadata": {
        "id": "OvL7W806o9U0"
      },
      "id": "OvL7W806o9U0",
      "execution_count": 86,
      "outputs": []
    },
    {
      "cell_type": "markdown",
      "source": [
        "**get_sense:** interroga BabelNet per ottenere i possibili significati (sensi) di una parola in diverse lingue."
      ],
      "metadata": {
        "id": "Tdr1NzQjpIAa"
      },
      "id": "Tdr1NzQjpIAa"
    },
    {
      "cell_type": "code",
      "source": [
        "def get_sense(\n",
        "    lemma: str,\n",
        "    targetLang: List[str],\n",
        "    key: str,\n",
        "    source: str = \"WIKI\"\n",
        ") -> Optional[List[Dict[str, Any]]]:\n",
        "    url = 'https://babelnet.io/v9/getSenses'\n",
        "    searchLang = targetLang[0]\n",
        "    params = {\n",
        "        'lemma': lemma,\n",
        "        'searchLang': searchLang,\n",
        "        'targetLang': targetLang,\n",
        "        'key': key,\n",
        "        'source': source\n",
        "    }\n",
        "\n",
        "    response = requests.get(url, params=params, timeout=10)\n",
        "    try:\n",
        "        response.raise_for_status()\n",
        "        return response.json()\n",
        "    except requests.exceptions.RequestException as e:\n",
        "        logging.error(f\"Error fetching synsets: {e}\")\n",
        "        return None"
      ],
      "metadata": {
        "id": "joXaenPkpZl2"
      },
      "id": "joXaenPkpZl2",
      "execution_count": 87,
      "outputs": []
    },
    {
      "cell_type": "markdown",
      "source": [
        "**find_synset_language_dict**:\n",
        "\n",
        "Prende in input una lista di dizionari synsets e costruisce un dizionario che mappa ogni lingua a un insieme di ID di synset"
      ],
      "metadata": {
        "id": "4oVp1TAMprIG"
      },
      "id": "4oVp1TAMprIG"
    },
    {
      "cell_type": "code",
      "source": [
        "\n",
        "def find_synset_language_dict(synsets: List[dict]) -> Dict[str, Set[str]]:\n",
        "    lang_synsets: Dict[str, Set[str]] = {}\n",
        "    for synset in synsets:\n",
        "        props = synset.get('properties', {})\n",
        "        synset_id = props.get('synsetID', {}).get('id')\n",
        "        lang = props.get('language', '').upper()\n",
        "        if synset_id and lang:\n",
        "            lang_synsets.setdefault(lang, set()).add(synset_id)\n",
        "    return lang_synsets\n"
      ],
      "metadata": {
        "id": "2GESVLbYqdtV"
      },
      "id": "2GESVLbYqdtV",
      "execution_count": 88,
      "outputs": []
    },
    {
      "cell_type": "markdown",
      "source": [
        "**extract_lemma_for_lang**\n",
        "\n",
        "Dato un elenco di synset, un synset_id e una lingua (lang), la funzione cerca e restituisce il lemma (la forma base della parola) corrispondente a quel synset e lingua."
      ],
      "metadata": {
        "id": "qECdlQiRqpDQ"
      },
      "id": "qECdlQiRqpDQ"
    },
    {
      "cell_type": "code",
      "source": [
        "def extract_lemma_for_lang(synsets: List[Dict[str, Any]], synset_id: str, lang: str) -> str:\n",
        "   for synset in synsets:\n",
        "        props = synset.get('properties', {})\n",
        "        sid = props.get('synsetID', {}).get('id')\n",
        "        language = props.get('language', '').upper()\n",
        "        if sid == synset_id and language == lang.upper():\n",
        "            return props.get('fullLemma') or props.get('simpleLemma') or \"N/A\"\n",
        "   return \"N/A\""
      ],
      "metadata": {
        "id": "87uFxGZqqvrE"
      },
      "id": "87uFxGZqqvrE",
      "execution_count": 89,
      "outputs": []
    },
    {
      "cell_type": "markdown",
      "source": [
        "**save_pseudoword_csv**\n",
        "\n",
        "Salva su file CSV strutturato le informazioni di una \"pseudoword\" formato da più parole in diverse lingue, synset comuni e relativi lemmi"
      ],
      "metadata": {
        "id": "7J1095k_q5ZU"
      },
      "id": "7J1095k_q5ZU"
    },
    {
      "cell_type": "code",
      "source": [
        "def save_pseudoword_csv(words: Tuple[str, ...], synsets: List[Dict[str, Any]], common_synsets: Set[str], langs: List[str]):\n",
        "    pseudoword = '-'.join(words)\n",
        "    os.makedirs('rsrc', exist_ok=True)\n",
        "    path = f\"rsrc/pseudowords_{pseudoword}.csv\"\n",
        "    with open(path, 'w', newline='', encoding='utf-8') as f:\n",
        "        writer = csv.writer(f)\n",
        "        writer.writerow([\"pseudoword\"] + [f\"{lang}_word\" for lang in langs] + [f\"{lang}_sense\" for lang in langs] + [\"common_synset_id\"])\n",
        "        for sid in common_synsets:\n",
        "            row = [pseudoword]\n",
        "            for i, lang in enumerate(langs):\n",
        "                row.append(words[i])\n",
        "            for lang in langs:\n",
        "                row.append(extract_lemma_for_lang(synsets, sid, lang))\n",
        "            row.append(sid)\n",
        "            writer.writerow(row)\n",
        "\n",
        "def save_pseudoword(\n",
        "    words: Tuple[str, ...],\n",
        "    pseudoword: str,\n",
        "    synsets: List[Dict[str, Any]],\n",
        "    common_synsets: Set[str],\n",
        "    langs: List[str]\n",
        ") -> None:\n",
        "    save_pseudoword_csv(words, synsets, common_synsets, langs)\n",
        "\n",
        "def save_pseudoword_multi(\n",
        "    pseudoword: str,\n",
        "    words: Tuple[str, ...],\n",
        "    synsets: List[Dict[str, Any]],\n",
        "    common_synsets: Set[str],\n",
        "    langs: List[str]\n",
        ") -> None:\n",
        "    save_pseudoword(words, pseudoword, synsets, common_synsets, langs)"
      ],
      "metadata": {
        "id": "TutgCornrEnP"
      },
      "id": "TutgCornrEnP",
      "execution_count": 90,
      "outputs": []
    },
    {
      "cell_type": "markdown",
      "source": [
        "**process_word_tuple**\n",
        "\n",
        "Calcola la riduzione di ambiguità per un gruppo di parole (words) in diverse lingue (langs), salva i dati relativi ai synset comuni e restituisce un dizionario con il punteggio."
      ],
      "metadata": {
        "id": "ToxOV93wremH"
      },
      "id": "ToxOV93wremH"
    },
    {
      "cell_type": "code",
      "execution_count": 91,
      "id": "03b5152c",
      "metadata": {
        "id": "03b5152c"
      },
      "outputs": [],
      "source": [
        "\n",
        "def process_word_tuple(words: Tuple[str, ...], langs: List[str], api_key: str) -> Optional[dict]:\n",
        "    synsets = get_sense(words[0], langs, api_key)\n",
        "    if not synsets:\n",
        "        return None\n",
        "    lang_synsets = find_synset_language_dict(synsets)\n",
        "    synset_sets = [lang_synsets.get(lang, set()) for lang in langs]\n",
        "    if not all(synset_sets):\n",
        "        return None\n",
        "    common = set.intersection(*synset_sets)\n",
        "\n",
        "    Sx = len(synset_sets[0])\n",
        "    Sy = len(synset_sets[1])\n",
        "    Sxy = len(common)\n",
        "    total = Sx + Sy\n",
        "    reduction = (total - 2 * Sxy) / total if total else 0.0\n",
        "\n",
        "    save_pseudoword_csv(words, synsets, common, langs)\n",
        "    return {\n",
        "        \"pseudoword\": '-'.join(words),\n",
        "        \"Sx\": Sx,\n",
        "        \"Sy\": Sy,\n",
        "        \"Sxy\": Sxy,\n",
        "        \"ambiguity_reduction\": round(reduction, 3)\n",
        "    }\n",
        "\n"
      ]
    },
    {
      "cell_type": "markdown",
      "source": [
        "**Gestione del flusso**\n",
        "\n",
        "gestisce il flusso completo: carica dati, calcola riduzione di ambiguità in parallelo, salva i dati e produce un grafico per visualizzare i risultati."
      ],
      "metadata": {
        "id": "Majq-aufr1ZB"
      },
      "id": "Majq-aufr1ZB"
    },
    {
      "cell_type": "code",
      "execution_count": 93,
      "id": "103d0ae6",
      "metadata": {
        "colab": {
          "base_uri": "https://localhost:8080/",
          "height": 1472
        },
        "id": "103d0ae6",
        "outputId": "abaf765f-4e97-443b-dbe3-5301a54fd8df"
      },
      "outputs": [
        {
          "output_type": "display_data",
          "data": {
            "text/plain": [
              "<Figure size 1200x800 with 1 Axes>"
            ],
            "image/png": "[encoded data removed]"
          },
          "metadata": {}
        },
        {
          "output_type": "display_data",
          "data": {
            "text/plain": [
              "        pseudoword   Sx  Sy  Sxy  ambiguity_reduction\n",
              "0     right-giusto    9   5    4                0.429\n",
              "1        bank-riva   20   5    5                0.600\n",
              "2  castle-castello   46  23   14                0.594\n",
              "3       time-tempo  125  58   57                0.377\n",
              "4       book-libro   18  10    9                0.357"
            ],
            "text/html": [
              "\n",
              "  <div id=\"df-3fa7ca1c-462e-4fbe-a2d9-2f811fb8d3d7\" class=\"colab-df-container\">\n",
              "    <div>\n",
              "<style scoped>\n",
              "    .dataframe tbody tr th:only-of-type {\n",
              "        vertical-align: middle;\n",
              "    }\n",
              "\n",
              "    .dataframe tbody tr th {\n",
              "        vertical-align: top;\n",
              "    }\n",
              "\n",
              "    .dataframe thead th {\n",
              "        text-align: right;\n",
              "    }\n",
              "</style>\n",
              "<table border=\"1\" class=\"dataframe\">\n",
              "  <thead>\n",
              "    <tr style=\"text-align: right;\">\n",
              "      <th></th>\n",
              "      <th>pseudoword</th>\n",
              "      <th>Sx</th>\n",
              "      <th>Sy</th>\n",
              "      <th>Sxy</th>\n",
              "      <th>ambiguity_reduction</th>\n",
              "    </tr>\n",
              "  </thead>\n",
              "  <tbody>\n",
              "    <tr>\n",
              "      <th>0</th>\n",
              "      <td>right-giusto</td>\n",
              "      <td>9</td>\n",
              "      <td>5</td>\n",
              "      <td>4</td>\n",
              "      <td>0.429</td>\n",
              "    </tr>\n",
              "    <tr>\n",
              "      <th>1</th>\n",
              "      <td>bank-riva</td>\n",
              "      <td>20</td>\n",
              "      <td>5</td>\n",
              "      <td>5</td>\n",
              "      <td>0.600</td>\n",
              "    </tr>\n",
              "    <tr>\n",
              "      <th>2</th>\n",
              "      <td>castle-castello</td>\n",
              "      <td>46</td>\n",
              "      <td>23</td>\n",
              "      <td>14</td>\n",
              "      <td>0.594</td>\n",
              "    </tr>\n",
              "    <tr>\n",
              "      <th>3</th>\n",
              "      <td>time-tempo</td>\n",
              "      <td>125</td>\n",
              "      <td>58</td>\n",
              "      <td>57</td>\n",
              "      <td>0.377</td>\n",
              "    </tr>\n",
              "    <tr>\n",
              "      <th>4</th>\n",
              "      <td>book-libro</td>\n",
              "      <td>18</td>\n",
              "      <td>10</td>\n",
              "      <td>9</td>\n",
              "      <td>0.357</td>\n",
              "    </tr>\n",
              "  </tbody>\n",
              "</table>\n",
              "</div>\n",
              "    <div class=\"colab-df-buttons\">\n",
              "\n",
              "  <div class=\"colab-df-container\">\n",
              "    <button class=\"colab-df-convert\" onclick=\"convertToInteractive('df-3fa7ca1c-462e-4fbe-a2d9-2f811fb8d3d7')\"\n",
              "            title=\"Convert this dataframe to an interactive table.\"\n",
              "            style=\"display:none;\">\n",
              "\n",
              "  <svg xmlns=\"http://www.w3.org/2000/svg\" height=\"24px\" viewBox=\"0 -960 960 960\">\n",
              "    <path d=\"M120-120v-720h720v720H120Zm60-500h600v-160H180v160Zm220 220h160v-160H400v160Zm0 220h160v-160H400v160ZM180-400h160v-160H180v160Zm440 0h160v-160H620v160ZM180-180h160v-160H180v160Zm440 0h160v-160H620v160Z\"/>\n",
              "  </svg>\n",
              "    </button>\n",
              "\n",
              "  <style>\n",
              "    .colab-df-container {\n",
              "      display:flex;\n",
              "      gap: 12px;\n",
              "    }\n",
              "\n",
              "    .colab-df-convert {\n",
              "      background-color: #E8F0FE;\n",
              "      border: none;\n",
              "      border-radius: 50%;\n",
              "      cursor: pointer;\n",
              "      display: none;\n",
              "      fill: #1967D2;\n",
              "      height: 32px;\n",
              "      padding: 0 0 0 0;\n",
              "      width: 32px;\n",
              "    }\n",
              "\n",
              "    .colab-df-convert:hover {\n",
              "      background-color: #E2EBFA;\n",
              "      box-shadow: 0px 1px 2px rgba(60, 64, 67, 0.3), 0px 1px 3px 1px rgba(60, 64, 67, 0.15);\n",
              "      fill: #174EA6;\n",
              "    }\n",
              "\n",
              "    .colab-df-buttons div {\n",
              "      margin-bottom: 4px;\n",
              "    }\n",
              "\n",
              "    [theme=dark] .colab-df-convert {\n",
              "      background-color: #3B4455;\n",
              "      fill: #D2E3FC;\n",
              "    }\n",
              "\n",
              "    [theme=dark] .colab-df-convert:hover {\n",
              "      background-color: #434B5C;\n",
              "      box-shadow: 0px 1px 3px 1px rgba(0, 0, 0, 0.15);\n",
              "      filter: drop-shadow(0px 1px 2px rgba(0, 0, 0, 0.3));\n",
              "      fill: #FFFFFF;\n",
              "    }\n",
              "  </style>\n",
              "\n",
              "    <script>\n",
              "      const buttonEl =\n",
              "        document.querySelector('#df-3fa7ca1c-462e-4fbe-a2d9-2f811fb8d3d7 button.colab-df-convert');\n",
              "      buttonEl.style.display =\n",
              "        google.colab.kernel.accessAllowed ? 'block' : 'none';\n",
              "\n",
              "      async function convertToInteractive(key) {\n",
              "        const element = document.querySelector('#df-3fa7ca1c-462e-4fbe-a2d9-2f811fb8d3d7');\n",
              "        const dataTable =\n",
              "          await google.colab.kernel.invokeFunction('convertToInteractive',\n",
              "                                                    [key], {});\n",
              "        if (!dataTable) return;\n",
              "\n",
              "        const docLinkHtml = 'Like what you see? Visit the ' +\n",
              "          '<a target=\"_blank\" href=https://colab.research.google.com/notebooks/data_table.ipynb>data table notebook</a>'\n",
              "          + ' to learn more about interactive tables.';\n",
              "        element.innerHTML = '';\n",
              "        dataTable['output_type'] = 'display_data';\n",
              "        await google.colab.output.renderOutput(dataTable, element);\n",
              "        const docLink = document.createElement('div');\n",
              "        docLink.innerHTML = docLinkHtml;\n",
              "        element.appendChild(docLink);\n",
              "      }\n",
              "    </script>\n",
              "  </div>\n",
              "\n",
              "\n",
              "    <div id=\"df-a214a852-d373-4961-80bb-91a8d0be03fa\">\n",
              "      <button class=\"colab-df-quickchart\" onclick=\"quickchart('df-a214a852-d373-4961-80bb-91a8d0be03fa')\"\n",
              "                title=\"Suggest charts\"\n",
              "                style=\"display:none;\">\n",
              "\n",
              "<svg xmlns=\"http://www.w3.org/2000/svg\" height=\"24px\"viewBox=\"0 0 24 24\"\n",
              "     width=\"24px\">\n",
              "    <g>\n",
              "        <path d=\"M19 3H5c-1.1 0-2 .9-2 2v14c0 1.1.9 2 2 2h14c1.1 0 2-.9 2-2V5c0-1.1-.9-2-2-2zM9 17H7v-7h2v7zm4 0h-2V7h2v10zm4 0h-2v-4h2v4z\"/>\n",
              "    </g>\n",
              "</svg>\n",
              "      </button>\n",
              "\n",
              "<style>\n",
              "  .colab-df-quickchart {\n",
              "      --bg-color: #E8F0FE;\n",
              "      --fill-color: #1967D2;\n",
              "      --hover-bg-color: #E2EBFA;\n",
              "      --hover-fill-color: #174EA6;\n",
              "      --disabled-fill-color: #AAA;\n",
              "      --disabled-bg-color: #DDD;\n",
              "  }\n",
              "\n",
              "  [theme=dark] .colab-df-quickchart {\n",
              "      --bg-color: #3B4455;\n",
              "      --fill-color: #D2E3FC;\n",
              "      --hover-bg-color: #434B5C;\n",
              "      --hover-fill-color: #FFFFFF;\n",
              "      --disabled-bg-color: #3B4455;\n",
              "      --disabled-fill-color: #666;\n",
              "  }\n",
              "\n",
              "  .colab-df-quickchart {\n",
              "    background-color: var(--bg-color);\n",
              "    border: none;\n",
              "    border-radius: 50%;\n",
              "    cursor: pointer;\n",
              "    display: none;\n",
              "    fill: var(--fill-color);\n",
              "    height: 32px;\n",
              "    padding: 0;\n",
              "    width: 32px;\n",
              "  }\n",
              "\n",
              "  .colab-df-quickchart:hover {\n",
              "    background-color: var(--hover-bg-color);\n",
              "    box-shadow: 0 1px 2px rgba(60, 64, 67, 0.3), 0 1px 3px 1px rgba(60, 64, 67, 0.15);\n",
              "    fill: var(--button-hover-fill-color);\n",
              "  }\n",
              "\n",
              "  .colab-df-quickchart-complete:disabled,\n",
              "  .colab-df-quickchart-complete:disabled:hover {\n",
              "    background-color: var(--disabled-bg-color);\n",
              "    fill: var(--disabled-fill-color);\n",
              "    box-shadow: none;\n",
              "  }\n",
              "\n",
              "  .colab-df-spinner {\n",
              "    border: 2px solid var(--fill-color);\n",
              "    border-color: transparent;\n",
              "    border-bottom-color: var(--fill-color);\n",
              "    animation:\n",
              "      spin 1s steps(1) infinite;\n",
              "  }\n",
              "\n",
              "  @keyframes spin {\n",
              "    0% {\n",
              "      border-color: transparent;\n",
              "      border-bottom-color: var(--fill-color);\n",
              "      border-left-color: var(--fill-color);\n",
              "    }\n",
              "    20% {\n",
              "      border-color: transparent;\n",
              "      border-left-color: var(--fill-color);\n",
              "      border-top-color: var(--fill-color);\n",
              "    }\n",
              "    30% {\n",
              "      border-color: transparent;\n",
              "      border-left-color: var(--fill-color);\n",
              "      border-top-color: var(--fill-color);\n",
              "      border-right-color: var(--fill-color);\n",
              "    }\n",
              "    40% {\n",
              "      border-color: transparent;\n",
              "      border-right-color: var(--fill-color);\n",
              "      border-top-color: var(--fill-color);\n",
              "    }\n",
              "    60% {\n",
              "      border-color: transparent;\n",
              "      border-right-color: var(--fill-color);\n",
              "    }\n",
              "    80% {\n",
              "      border-color: transparent;\n",
              "      border-right-color: var(--fill-color);\n",
              "      border-bottom-color: var(--fill-color);\n",
              "    }\n",
              "    90% {\n",
              "      border-color: transparent;\n",
              "      border-bottom-color: var(--fill-color);\n",
              "    }\n",
              "  }\n",
              "</style>\n",
              "\n",
              "      <script>\n",
              "        async function quickchart(key) {\n",
              "          const quickchartButtonEl =\n",
              "            document.querySelector('#' + key + ' button');\n",
              "          quickchartButtonEl.disabled = true;  // To prevent multiple clicks.\n",
              "          quickchartButtonEl.classList.add('colab-df-spinner');\n",
              "          try {\n",
              "            const charts = await google.colab.kernel.invokeFunction(\n",
              "                'suggestCharts', [key], {});\n",
              "          } catch (error) {\n",
              "            console.error('Error during call to suggestCharts:', error);\n",
              "          }\n",
              "          quickchartButtonEl.classList.remove('colab-df-spinner');\n",
              "          quickchartButtonEl.classList.add('colab-df-quickchart-complete');\n",
              "        }\n",
              "        (() => {\n",
              "          let quickchartButtonEl =\n",
              "            document.querySelector('#df-a214a852-d373-4961-80bb-91a8d0be03fa button');\n",
              "          quickchartButtonEl.style.display =\n",
              "            google.colab.kernel.accessAllowed ? 'block' : 'none';\n",
              "        })();\n",
              "      </script>\n",
              "    </div>\n",
              "\n",
              "    </div>\n",
              "  </div>\n"
            ],
            "application/vnd.google.colaboratory.intrinsic+json": {
              "type": "dataframe",
              "summary": "{\n  \"name\": \"plt\",\n  \"rows\": 5,\n  \"fields\": [\n    {\n      \"column\": \"pseudoword\",\n      \"properties\": {\n        \"dtype\": \"string\",\n        \"num_unique_values\": 5,\n        \"samples\": [\n          \"bank-riva\",\n          \"book-libro\",\n          \"castle-castello\"\n        ],\n        \"semantic_type\": \"\",\n        \"description\": \"\"\n      }\n    },\n    {\n      \"column\": \"Sx\",\n      \"properties\": {\n        \"dtype\": \"number\",\n        \"std\": 47,\n        \"min\": 9,\n        \"max\": 125,\n        \"num_unique_values\": 5,\n        \"samples\": [\n          20,\n          18,\n          46\n        ],\n        \"semantic_type\": \"\",\n        \"description\": \"\"\n      }\n    },\n    {\n      \"column\": \"Sy\",\n      \"properties\": {\n        \"dtype\": \"number\",\n        \"std\": 22,\n        \"min\": 5,\n        \"max\": 58,\n        \"num_unique_values\": 4,\n        \"samples\": [\n          23,\n          10,\n          5\n        ],\n        \"semantic_type\": \"\",\n        \"description\": \"\"\n      }\n    },\n    {\n      \"column\": \"Sxy\",\n      \"properties\": {\n        \"dtype\": \"number\",\n        \"std\": 22,\n        \"min\": 4,\n        \"max\": 57,\n        \"num_unique_values\": 5,\n        \"samples\": [\n          5,\n          9,\n          14\n        ],\n        \"semantic_type\": \"\",\n        \"description\": \"\"\n      }\n    },\n    {\n      \"column\": \"ambiguity_reduction\",\n      \"properties\": {\n        \"dtype\": \"number\",\n        \"std\": 0.1176490543948399,\n        \"min\": 0.357,\n        \"max\": 0.6,\n        \"num_unique_values\": 5,\n        \"samples\": [\n          0.6,\n          0.357,\n          0.594\n        ],\n        \"semantic_type\": \"\",\n        \"description\": \"\"\n      }\n    }\n  ]\n}"
            }
          },
          "metadata": {}
        },
        {
          "output_type": "display_data",
          "data": {
            "text/plain": [
              "<Figure size 1200x800 with 1 Axes>"
            ],
            "image/png": "[encoded data removed]"
          },
          "metadata": {}
        }
      ],
      "source": [
        "word_tuples = load_word_tuples(INPUT_FILE)\n",
        "valid_tuples = [wt for wt in word_tuples if len(wt) == len(LANGS)]\n",
        "results = []\n",
        "\n",
        "with concurrent.futures.ThreadPoolExecutor(max_workers=4) as executor:\n",
        "    func = partial(process_word_tuple, langs=LANGS, api_key=API_KEY)\n",
        "    futures = {executor.submit(func, wt): wt for wt in valid_tuples}\n",
        "    for future in concurrent.futures.as_completed(futures):\n",
        "        res = future.result()\n",
        "        if res:\n",
        "            results.append(res)\n",
        "\n",
        "os.makedirs('rsrc', exist_ok=True)\n",
        "with open('rsrc/ambiguity_scores.json', 'w', encoding='utf-8') as f:\n",
        "    json.dump(results, f, indent=4, ensure_ascii=False)\n",
        "\n",
        "if results:\n",
        "    sorted_data = sorted(results, key=lambda x: x['ambiguity_reduction'])\n",
        "    pseudowords = [d['pseudoword'] for d in sorted_data]\n",
        "    scores = [d['ambiguity_reduction'] for d in sorted_data]\n",
        "\n",
        "    plt.figure(figsize=(12, 8))\n",
        "    y_pos = np.arange(len(pseudowords))\n",
        "    plt.barh(y_pos, scores, color=plt.cm.viridis(np.linspace(0, 1, len(pseudowords))))\n",
        "    plt.yticks(y_pos, pseudowords)\n",
        "    plt.xlabel('Ambiguity Reduction')\n",
        "    plt.title('Ambiguity Reduction per Pseudoword')\n",
        "    for i, score in enumerate(scores):\n",
        "        plt.text(score, i, f'{score:.2f}', va='center', ha='left')\n",
        "    plt.tight_layout()\n",
        "    plt.savefig('ambiguity_reduction_plot.png')\n",
        "    plt.show()\n",
        "else:\n",
        "    logging.warning(\"No results to plot.\")\n",
        "\n",
        "import pandas as pd\n",
        "\n",
        "df = pd.DataFrame(results)\n",
        "display(df.head())\n",
        "\n",
        "plt.figure(figsize=(12, 8))\n",
        "indices = np.arange(len(results))\n",
        "width = 0.3\n",
        "\n",
        "Sx_vals = [r[\"Sx\"] for r in results]\n",
        "Sy_vals = [r[\"Sy\"] for r in results]\n",
        "Sxy_vals = [r[\"Sxy\"] for r in results]\n",
        "\n",
        "plt.bar(indices - width, Sx_vals, width=width, label='Sx (L1)')\n",
        "plt.bar(indices, Sy_vals, width=width, label='Sy (L2)')\n",
        "plt.bar(indices + width, Sxy_vals, width=width, label='Sx∩Sy (Pseudoword)')\n",
        "\n",
        "plt.xticks(indices, [r[\"pseudoword\"] for r in results], rotation=90)\n",
        "plt.ylabel(\"Numero di sensi\")\n",
        "plt.title(\"Confronto Ambiguità: Prima vs Dopo\")\n",
        "plt.legend()\n",
        "plt.tight_layout()\n",
        "plt.savefig('ambiguity_comparison_plot.png')\n",
        "plt.show()\n",
        "\n"
      ]
    }
  ],
  "metadata": {
    "colab": {
      "provenance": [],
      "include_colab_link": true
    },
    "language_info": {
      "name": "python"
    },
    "kernelspec": {
      "name": "python3",
      "display_name": "Python 3"
    }
  },
  "nbformat": 4,
  "nbformat_minor": 5
}